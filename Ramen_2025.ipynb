{
 "cells": [
  {
   "cell_type": "markdown",
   "id": "ab496fd6-ffed-4c73-8c1f-c82318924602",
   "metadata": {},
   "source": [
    "# Ramen Ratings Analysis: Unveiling What Makes Instant Noodles Great 🍜\n",
    "Instant noodles are more than just a quick meal — they’re a global phenomenon with fierce brand loyalty, regional preferences, and a wide range of quality.\n",
    "In this project, I dove deep into a dataset of over a thousand ramen product reviews across countries, brands, and styles to answer key questions:\n",
    "\n",
    "### Which countries produce the highest-rated ramen?\n",
    "\n",
    "### Which brands consistently deliver excellence?\n",
    "\n",
    "### Does the packaging style impact product rating?\n",
    "\n",
    "### What patterns can we discover from consumer ratings?\n",
    "\n",
    "Using Python, I cleaned and explored the data, summarized categorical trends, and visualized key insights to better understand global preferences in ramen."
   ]
  },
  {
   "cell_type": "code",
   "execution_count": 1,
   "id": "fad2b058-4447-49a1-9d5d-12d093eb2395",
   "metadata": {},
   "outputs": [],
   "source": [
    "import numpy as np \n",
    "import pandas as pd \n",
    "import matplotlib.pyplot as plt\n",
    "import seaborn as sns "
   ]
  },
  {
   "cell_type": "code",
   "execution_count": 2,
   "id": "e8a2dffd-8ffa-46b3-a044-f782dc3087ec",
   "metadata": {},
   "outputs": [
    {
     "data": {
      "text/html": [
       "<div>\n",
       "<style scoped>\n",
       "    .dataframe tbody tr th:only-of-type {\n",
       "        vertical-align: middle;\n",
       "    }\n",
       "\n",
       "    .dataframe tbody tr th {\n",
       "        vertical-align: top;\n",
       "    }\n",
       "\n",
       "    .dataframe thead th {\n",
       "        text-align: right;\n",
       "    }\n",
       "</style>\n",
       "<table border=\"1\" class=\"dataframe\">\n",
       "  <thead>\n",
       "    <tr style=\"text-align: right;\">\n",
       "      <th></th>\n",
       "      <th>Review #</th>\n",
       "      <th>Brand</th>\n",
       "      <th>Variety</th>\n",
       "      <th>Style</th>\n",
       "      <th>Country</th>\n",
       "      <th>Stars</th>\n",
       "      <th>Top Ten</th>\n",
       "    </tr>\n",
       "  </thead>\n",
       "  <tbody>\n",
       "    <tr>\n",
       "      <th>0</th>\n",
       "      <td>2580</td>\n",
       "      <td>New Touch</td>\n",
       "      <td>T's Restaurant Tantanmen</td>\n",
       "      <td>Cup</td>\n",
       "      <td>Japan</td>\n",
       "      <td>3.75</td>\n",
       "      <td>NaN</td>\n",
       "    </tr>\n",
       "    <tr>\n",
       "      <th>1</th>\n",
       "      <td>2579</td>\n",
       "      <td>Just Way</td>\n",
       "      <td>Noodles Spicy Hot Sesame Spicy Hot Sesame Guan...</td>\n",
       "      <td>Pack</td>\n",
       "      <td>Taiwan</td>\n",
       "      <td>1</td>\n",
       "      <td>NaN</td>\n",
       "    </tr>\n",
       "    <tr>\n",
       "      <th>2</th>\n",
       "      <td>2578</td>\n",
       "      <td>Nissin</td>\n",
       "      <td>Cup Noodles Chicken Vegetable</td>\n",
       "      <td>Cup</td>\n",
       "      <td>USA</td>\n",
       "      <td>2.25</td>\n",
       "      <td>NaN</td>\n",
       "    </tr>\n",
       "    <tr>\n",
       "      <th>3</th>\n",
       "      <td>2577</td>\n",
       "      <td>Wei Lih</td>\n",
       "      <td>GGE Ramen Snack Tomato Flavor</td>\n",
       "      <td>Pack</td>\n",
       "      <td>Taiwan</td>\n",
       "      <td>2.75</td>\n",
       "      <td>NaN</td>\n",
       "    </tr>\n",
       "    <tr>\n",
       "      <th>4</th>\n",
       "      <td>2576</td>\n",
       "      <td>Ching's Secret</td>\n",
       "      <td>Singapore Curry</td>\n",
       "      <td>Pack</td>\n",
       "      <td>India</td>\n",
       "      <td>3.75</td>\n",
       "      <td>NaN</td>\n",
       "    </tr>\n",
       "    <tr>\n",
       "      <th>...</th>\n",
       "      <td>...</td>\n",
       "      <td>...</td>\n",
       "      <td>...</td>\n",
       "      <td>...</td>\n",
       "      <td>...</td>\n",
       "      <td>...</td>\n",
       "      <td>...</td>\n",
       "    </tr>\n",
       "    <tr>\n",
       "      <th>2575</th>\n",
       "      <td>5</td>\n",
       "      <td>Vifon</td>\n",
       "      <td>Hu Tiu Nam Vang [\"Phnom Penh\" style] Asian Sty...</td>\n",
       "      <td>Bowl</td>\n",
       "      <td>Vietnam</td>\n",
       "      <td>3.5</td>\n",
       "      <td>NaN</td>\n",
       "    </tr>\n",
       "    <tr>\n",
       "      <th>2576</th>\n",
       "      <td>4</td>\n",
       "      <td>Wai Wai</td>\n",
       "      <td>Oriental Style Instant Noodles</td>\n",
       "      <td>Pack</td>\n",
       "      <td>Thailand</td>\n",
       "      <td>1</td>\n",
       "      <td>NaN</td>\n",
       "    </tr>\n",
       "    <tr>\n",
       "      <th>2577</th>\n",
       "      <td>3</td>\n",
       "      <td>Wai Wai</td>\n",
       "      <td>Tom Yum Shrimp</td>\n",
       "      <td>Pack</td>\n",
       "      <td>Thailand</td>\n",
       "      <td>2</td>\n",
       "      <td>NaN</td>\n",
       "    </tr>\n",
       "    <tr>\n",
       "      <th>2578</th>\n",
       "      <td>2</td>\n",
       "      <td>Wai Wai</td>\n",
       "      <td>Tom Yum Chili Flavor</td>\n",
       "      <td>Pack</td>\n",
       "      <td>Thailand</td>\n",
       "      <td>2</td>\n",
       "      <td>NaN</td>\n",
       "    </tr>\n",
       "    <tr>\n",
       "      <th>2579</th>\n",
       "      <td>1</td>\n",
       "      <td>Westbrae</td>\n",
       "      <td>Miso Ramen</td>\n",
       "      <td>Pack</td>\n",
       "      <td>USA</td>\n",
       "      <td>0.5</td>\n",
       "      <td>NaN</td>\n",
       "    </tr>\n",
       "  </tbody>\n",
       "</table>\n",
       "<p>2580 rows × 7 columns</p>\n",
       "</div>"
      ],
      "text/plain": [
       "      Review #           Brand  \\\n",
       "0         2580       New Touch   \n",
       "1         2579        Just Way   \n",
       "2         2578          Nissin   \n",
       "3         2577         Wei Lih   \n",
       "4         2576  Ching's Secret   \n",
       "...        ...             ...   \n",
       "2575         5           Vifon   \n",
       "2576         4         Wai Wai   \n",
       "2577         3         Wai Wai   \n",
       "2578         2         Wai Wai   \n",
       "2579         1        Westbrae   \n",
       "\n",
       "                                                Variety Style   Country Stars  \\\n",
       "0                             T's Restaurant Tantanmen    Cup     Japan  3.75   \n",
       "1     Noodles Spicy Hot Sesame Spicy Hot Sesame Guan...  Pack    Taiwan     1   \n",
       "2                         Cup Noodles Chicken Vegetable   Cup       USA  2.25   \n",
       "3                         GGE Ramen Snack Tomato Flavor  Pack    Taiwan  2.75   \n",
       "4                                       Singapore Curry  Pack     India  3.75   \n",
       "...                                                 ...   ...       ...   ...   \n",
       "2575  Hu Tiu Nam Vang [\"Phnom Penh\" style] Asian Sty...  Bowl   Vietnam   3.5   \n",
       "2576                     Oriental Style Instant Noodles  Pack  Thailand     1   \n",
       "2577                                     Tom Yum Shrimp  Pack  Thailand     2   \n",
       "2578                               Tom Yum Chili Flavor  Pack  Thailand     2   \n",
       "2579                                         Miso Ramen  Pack       USA   0.5   \n",
       "\n",
       "     Top Ten  \n",
       "0        NaN  \n",
       "1        NaN  \n",
       "2        NaN  \n",
       "3        NaN  \n",
       "4        NaN  \n",
       "...      ...  \n",
       "2575     NaN  \n",
       "2576     NaN  \n",
       "2577     NaN  \n",
       "2578     NaN  \n",
       "2579     NaN  \n",
       "\n",
       "[2580 rows x 7 columns]"
      ]
     },
     "execution_count": 2,
     "metadata": {},
     "output_type": "execute_result"
    }
   ],
   "source": [
    "df = pd.read_csv(r\"C:\\Users\\wasee\\Downloads\\ramen-ratings.csv\")\n",
    "df"
   ]
  },
  {
   "cell_type": "code",
   "execution_count": 3,
   "id": "8686e009-1cf4-4555-975e-eb50d747ee08",
   "metadata": {},
   "outputs": [],
   "source": [
    "df_original = df.copy()"
   ]
  },
  {
   "cell_type": "code",
   "execution_count": 4,
   "id": "54bea695-421c-42ac-8bf3-87730f75686e",
   "metadata": {},
   "outputs": [],
   "source": [
    "df_clean = df_original.copy()"
   ]
  },
  {
   "cell_type": "code",
   "execution_count": 5,
   "id": "30e1e55a-d0e2-4243-8cf3-6aae6b0dbed2",
   "metadata": {},
   "outputs": [
    {
     "name": "stdout",
     "output_type": "stream",
     "text": [
      "<class 'pandas.core.frame.DataFrame'>\n",
      "RangeIndex: 2580 entries, 0 to 2579\n",
      "Data columns (total 7 columns):\n",
      " #   Column    Non-Null Count  Dtype \n",
      "---  ------    --------------  ----- \n",
      " 0   Review #  2580 non-null   int64 \n",
      " 1   Brand     2580 non-null   object\n",
      " 2   Variety   2580 non-null   object\n",
      " 3   Style     2578 non-null   object\n",
      " 4   Country   2580 non-null   object\n",
      " 5   Stars     2580 non-null   object\n",
      " 6   Top Ten   41 non-null     object\n",
      "dtypes: int64(1), object(6)\n",
      "memory usage: 141.2+ KB\n"
     ]
    }
   ],
   "source": [
    "df_clean.info()"
   ]
  },
  {
   "cell_type": "code",
   "execution_count": 6,
   "id": "038c0058-74d2-41ca-96c0-50c8c409ef9c",
   "metadata": {},
   "outputs": [
    {
     "data": {
      "text/plain": [
       "0"
      ]
     },
     "execution_count": 6,
     "metadata": {},
     "output_type": "execute_result"
    }
   ],
   "source": [
    "df_clean.duplicated().sum()"
   ]
  },
  {
   "cell_type": "code",
   "execution_count": 7,
   "id": "823f0781-50fe-493f-9b77-75023f1203c2",
   "metadata": {},
   "outputs": [
    {
     "data": {
      "text/plain": [
       "Style\n",
       "Pack    1531\n",
       "Bowl     481\n",
       "Cup      450\n",
       "Tray     108\n",
       "Box        6\n",
       "Can        1\n",
       "Bar        1\n",
       "Name: count, dtype: int64"
      ]
     },
     "execution_count": 7,
     "metadata": {},
     "output_type": "execute_result"
    }
   ],
   "source": [
    "df_clean['Style'].value_counts()"
   ]
  },
  {
   "cell_type": "code",
   "execution_count": 8,
   "id": "1925111b-1455-4aac-b4ed-45e413f8213f",
   "metadata": {},
   "outputs": [],
   "source": [
    "def fill_missing_by_mode(df, column):\n",
    "    mode = df[column].mode()[0]\n",
    "    df[column] = df[column].fillna(mode)\n"
   ]
  },
  {
   "cell_type": "code",
   "execution_count": 9,
   "id": "0141deea-8716-4542-8b51-d3b34785c408",
   "metadata": {},
   "outputs": [],
   "source": [
    "fill_missing_by_mode(df_clean,'Style')"
   ]
  },
  {
   "cell_type": "code",
   "execution_count": 10,
   "id": "9ef76fdc-2c78-43d8-b5f3-964212287071",
   "metadata": {},
   "outputs": [
    {
     "name": "stdout",
     "output_type": "stream",
     "text": [
      "<class 'pandas.core.frame.DataFrame'>\n",
      "RangeIndex: 2580 entries, 0 to 2579\n",
      "Data columns (total 7 columns):\n",
      " #   Column    Non-Null Count  Dtype \n",
      "---  ------    --------------  ----- \n",
      " 0   Review #  2580 non-null   int64 \n",
      " 1   Brand     2580 non-null   object\n",
      " 2   Variety   2580 non-null   object\n",
      " 3   Style     2580 non-null   object\n",
      " 4   Country   2580 non-null   object\n",
      " 5   Stars     2580 non-null   object\n",
      " 6   Top Ten   41 non-null     object\n",
      "dtypes: int64(1), object(6)\n",
      "memory usage: 141.2+ KB\n"
     ]
    }
   ],
   "source": [
    "df_clean.info()"
   ]
  },
  {
   "cell_type": "code",
   "execution_count": 11,
   "id": "3ba73b9c-fd9c-4cb7-a3b7-461f4479877c",
   "metadata": {},
   "outputs": [],
   "source": [
    "df_clean.drop(columns=['Top Ten'],inplace=True)"
   ]
  },
  {
   "cell_type": "code",
   "execution_count": 12,
   "id": "8b56ef06-67d2-4b93-a72c-155074e80573",
   "metadata": {},
   "outputs": [
    {
     "name": "stdout",
     "output_type": "stream",
     "text": [
      "<class 'pandas.core.frame.DataFrame'>\n",
      "RangeIndex: 2580 entries, 0 to 2579\n",
      "Data columns (total 6 columns):\n",
      " #   Column    Non-Null Count  Dtype \n",
      "---  ------    --------------  ----- \n",
      " 0   Review #  2580 non-null   int64 \n",
      " 1   Brand     2580 non-null   object\n",
      " 2   Variety   2580 non-null   object\n",
      " 3   Style     2580 non-null   object\n",
      " 4   Country   2580 non-null   object\n",
      " 5   Stars     2580 non-null   object\n",
      "dtypes: int64(1), object(5)\n",
      "memory usage: 121.1+ KB\n"
     ]
    }
   ],
   "source": [
    "df_clean.info()"
   ]
  },
  {
   "cell_type": "code",
   "execution_count": 13,
   "id": "5dcf28a9-1c08-4d36-940a-d16fc7468aaf",
   "metadata": {},
   "outputs": [],
   "source": [
    "df_clean['Stars'] = pd.to_numeric(df_clean['Stars'], errors='coerce')\n"
   ]
  },
  {
   "cell_type": "code",
   "execution_count": 14,
   "id": "6aebb01f-f986-4452-8d56-4b1347b02cb1",
   "metadata": {},
   "outputs": [],
   "source": [
    "df_clean['Stars'] =df_clean['Stars'].fillna(df_clean['Stars'].median())\n"
   ]
  },
  {
   "cell_type": "code",
   "execution_count": 15,
   "id": "af52da7a-89bd-47e8-9dba-12387c71608a",
   "metadata": {},
   "outputs": [
    {
     "name": "stdout",
     "output_type": "stream",
     "text": [
      "<class 'pandas.core.frame.DataFrame'>\n",
      "RangeIndex: 2580 entries, 0 to 2579\n",
      "Data columns (total 6 columns):\n",
      " #   Column    Non-Null Count  Dtype  \n",
      "---  ------    --------------  -----  \n",
      " 0   Review #  2580 non-null   int64  \n",
      " 1   Brand     2580 non-null   object \n",
      " 2   Variety   2580 non-null   object \n",
      " 3   Style     2580 non-null   object \n",
      " 4   Country   2580 non-null   object \n",
      " 5   Stars     2580 non-null   float64\n",
      "dtypes: float64(1), int64(1), object(4)\n",
      "memory usage: 121.1+ KB\n"
     ]
    }
   ],
   "source": [
    "df_clean.info()"
   ]
  },
  {
   "cell_type": "code",
   "execution_count": 16,
   "id": "c2ad35fa-061c-401d-8f25-497013fb35c9",
   "metadata": {},
   "outputs": [],
   "source": [
    "def categorize_rating(stars):\n",
    "    if stars >= 4.0:\n",
    "        return 'Excellent ⭐⭐⭐⭐'\n",
    "    elif stars >= 3.0:\n",
    "        return 'Good ⭐⭐⭐'\n",
    "    elif stars >= 2.0:\n",
    "        return 'Average ⭐⭐'\n",
    "    elif stars > 0:\n",
    "        return 'Poor ⭐'\n",
    "    else:\n",
    "        return 'Not Rated'\n",
    "\n",
    "\n"
   ]
  },
  {
   "cell_type": "code",
   "execution_count": 17,
   "id": "dc9c3e48-7209-426f-aea0-7f73721f2f76",
   "metadata": {},
   "outputs": [],
   "source": [
    "df_clean['Rating_Desc'] = df_clean['Stars'].apply(categorize_rating)"
   ]
  },
  {
   "cell_type": "code",
   "execution_count": 18,
   "id": "1292a7d0-eeae-4d01-b9f3-4be6fdc053d8",
   "metadata": {},
   "outputs": [
    {
     "data": {
      "text/html": [
       "<div>\n",
       "<style scoped>\n",
       "    .dataframe tbody tr th:only-of-type {\n",
       "        vertical-align: middle;\n",
       "    }\n",
       "\n",
       "    .dataframe tbody tr th {\n",
       "        vertical-align: top;\n",
       "    }\n",
       "\n",
       "    .dataframe thead th {\n",
       "        text-align: right;\n",
       "    }\n",
       "</style>\n",
       "<table border=\"1\" class=\"dataframe\">\n",
       "  <thead>\n",
       "    <tr style=\"text-align: right;\">\n",
       "      <th></th>\n",
       "      <th>Review #</th>\n",
       "      <th>Brand</th>\n",
       "      <th>Variety</th>\n",
       "      <th>Style</th>\n",
       "      <th>Country</th>\n",
       "      <th>Stars</th>\n",
       "      <th>Rating_Desc</th>\n",
       "    </tr>\n",
       "  </thead>\n",
       "  <tbody>\n",
       "    <tr>\n",
       "      <th>0</th>\n",
       "      <td>2580</td>\n",
       "      <td>New Touch</td>\n",
       "      <td>T's Restaurant Tantanmen</td>\n",
       "      <td>Cup</td>\n",
       "      <td>Japan</td>\n",
       "      <td>3.75</td>\n",
       "      <td>Good ⭐⭐⭐</td>\n",
       "    </tr>\n",
       "    <tr>\n",
       "      <th>1</th>\n",
       "      <td>2579</td>\n",
       "      <td>Just Way</td>\n",
       "      <td>Noodles Spicy Hot Sesame Spicy Hot Sesame Guan...</td>\n",
       "      <td>Pack</td>\n",
       "      <td>Taiwan</td>\n",
       "      <td>1.00</td>\n",
       "      <td>Poor ⭐</td>\n",
       "    </tr>\n",
       "    <tr>\n",
       "      <th>2</th>\n",
       "      <td>2578</td>\n",
       "      <td>Nissin</td>\n",
       "      <td>Cup Noodles Chicken Vegetable</td>\n",
       "      <td>Cup</td>\n",
       "      <td>USA</td>\n",
       "      <td>2.25</td>\n",
       "      <td>Average ⭐⭐</td>\n",
       "    </tr>\n",
       "    <tr>\n",
       "      <th>3</th>\n",
       "      <td>2577</td>\n",
       "      <td>Wei Lih</td>\n",
       "      <td>GGE Ramen Snack Tomato Flavor</td>\n",
       "      <td>Pack</td>\n",
       "      <td>Taiwan</td>\n",
       "      <td>2.75</td>\n",
       "      <td>Average ⭐⭐</td>\n",
       "    </tr>\n",
       "    <tr>\n",
       "      <th>4</th>\n",
       "      <td>2576</td>\n",
       "      <td>Ching's Secret</td>\n",
       "      <td>Singapore Curry</td>\n",
       "      <td>Pack</td>\n",
       "      <td>India</td>\n",
       "      <td>3.75</td>\n",
       "      <td>Good ⭐⭐⭐</td>\n",
       "    </tr>\n",
       "    <tr>\n",
       "      <th>...</th>\n",
       "      <td>...</td>\n",
       "      <td>...</td>\n",
       "      <td>...</td>\n",
       "      <td>...</td>\n",
       "      <td>...</td>\n",
       "      <td>...</td>\n",
       "      <td>...</td>\n",
       "    </tr>\n",
       "    <tr>\n",
       "      <th>2575</th>\n",
       "      <td>5</td>\n",
       "      <td>Vifon</td>\n",
       "      <td>Hu Tiu Nam Vang [\"Phnom Penh\" style] Asian Sty...</td>\n",
       "      <td>Bowl</td>\n",
       "      <td>Vietnam</td>\n",
       "      <td>3.50</td>\n",
       "      <td>Good ⭐⭐⭐</td>\n",
       "    </tr>\n",
       "    <tr>\n",
       "      <th>2576</th>\n",
       "      <td>4</td>\n",
       "      <td>Wai Wai</td>\n",
       "      <td>Oriental Style Instant Noodles</td>\n",
       "      <td>Pack</td>\n",
       "      <td>Thailand</td>\n",
       "      <td>1.00</td>\n",
       "      <td>Poor ⭐</td>\n",
       "    </tr>\n",
       "    <tr>\n",
       "      <th>2577</th>\n",
       "      <td>3</td>\n",
       "      <td>Wai Wai</td>\n",
       "      <td>Tom Yum Shrimp</td>\n",
       "      <td>Pack</td>\n",
       "      <td>Thailand</td>\n",
       "      <td>2.00</td>\n",
       "      <td>Average ⭐⭐</td>\n",
       "    </tr>\n",
       "    <tr>\n",
       "      <th>2578</th>\n",
       "      <td>2</td>\n",
       "      <td>Wai Wai</td>\n",
       "      <td>Tom Yum Chili Flavor</td>\n",
       "      <td>Pack</td>\n",
       "      <td>Thailand</td>\n",
       "      <td>2.00</td>\n",
       "      <td>Average ⭐⭐</td>\n",
       "    </tr>\n",
       "    <tr>\n",
       "      <th>2579</th>\n",
       "      <td>1</td>\n",
       "      <td>Westbrae</td>\n",
       "      <td>Miso Ramen</td>\n",
       "      <td>Pack</td>\n",
       "      <td>USA</td>\n",
       "      <td>0.50</td>\n",
       "      <td>Poor ⭐</td>\n",
       "    </tr>\n",
       "  </tbody>\n",
       "</table>\n",
       "<p>2580 rows × 7 columns</p>\n",
       "</div>"
      ],
      "text/plain": [
       "      Review #           Brand  \\\n",
       "0         2580       New Touch   \n",
       "1         2579        Just Way   \n",
       "2         2578          Nissin   \n",
       "3         2577         Wei Lih   \n",
       "4         2576  Ching's Secret   \n",
       "...        ...             ...   \n",
       "2575         5           Vifon   \n",
       "2576         4         Wai Wai   \n",
       "2577         3         Wai Wai   \n",
       "2578         2         Wai Wai   \n",
       "2579         1        Westbrae   \n",
       "\n",
       "                                                Variety Style   Country  \\\n",
       "0                             T's Restaurant Tantanmen    Cup     Japan   \n",
       "1     Noodles Spicy Hot Sesame Spicy Hot Sesame Guan...  Pack    Taiwan   \n",
       "2                         Cup Noodles Chicken Vegetable   Cup       USA   \n",
       "3                         GGE Ramen Snack Tomato Flavor  Pack    Taiwan   \n",
       "4                                       Singapore Curry  Pack     India   \n",
       "...                                                 ...   ...       ...   \n",
       "2575  Hu Tiu Nam Vang [\"Phnom Penh\" style] Asian Sty...  Bowl   Vietnam   \n",
       "2576                     Oriental Style Instant Noodles  Pack  Thailand   \n",
       "2577                                     Tom Yum Shrimp  Pack  Thailand   \n",
       "2578                               Tom Yum Chili Flavor  Pack  Thailand   \n",
       "2579                                         Miso Ramen  Pack       USA   \n",
       "\n",
       "      Stars Rating_Desc  \n",
       "0      3.75    Good ⭐⭐⭐  \n",
       "1      1.00      Poor ⭐  \n",
       "2      2.25  Average ⭐⭐  \n",
       "3      2.75  Average ⭐⭐  \n",
       "4      3.75    Good ⭐⭐⭐  \n",
       "...     ...         ...  \n",
       "2575   3.50    Good ⭐⭐⭐  \n",
       "2576   1.00      Poor ⭐  \n",
       "2577   2.00  Average ⭐⭐  \n",
       "2578   2.00  Average ⭐⭐  \n",
       "2579   0.50      Poor ⭐  \n",
       "\n",
       "[2580 rows x 7 columns]"
      ]
     },
     "execution_count": 18,
     "metadata": {},
     "output_type": "execute_result"
    }
   ],
   "source": [
    "df_clean"
   ]
  },
  {
   "cell_type": "code",
   "execution_count": 19,
   "id": "1013203c-2098-4b38-aec1-ff1f83162905",
   "metadata": {},
   "outputs": [],
   "source": [
    "\n",
    "# 10. تلخيص التوزيع للفئات\n",
    "def summarize_categorical_distribution(df, column):\n",
    "    counts = df[column].value_counts()\n",
    "    percentages = df[column].value_counts(normalize=True) * 100\n",
    "    summary = pd.DataFrame({'Count': counts, 'Percentage': percentages.round(2)})\n",
    "    return summary"
   ]
  },
  {
   "cell_type": "code",
   "execution_count": 20,
   "id": "65903922-004c-4621-b375-649bccb72bd3",
   "metadata": {},
   "outputs": [
    {
     "data": {
      "text/html": [
       "<div>\n",
       "<style scoped>\n",
       "    .dataframe tbody tr th:only-of-type {\n",
       "        vertical-align: middle;\n",
       "    }\n",
       "\n",
       "    .dataframe tbody tr th {\n",
       "        vertical-align: top;\n",
       "    }\n",
       "\n",
       "    .dataframe thead th {\n",
       "        text-align: right;\n",
       "    }\n",
       "</style>\n",
       "<table border=\"1\" class=\"dataframe\">\n",
       "  <thead>\n",
       "    <tr style=\"text-align: right;\">\n",
       "      <th></th>\n",
       "      <th>Count</th>\n",
       "      <th>Percentage</th>\n",
       "    </tr>\n",
       "    <tr>\n",
       "      <th>Rating_Desc</th>\n",
       "      <th></th>\n",
       "      <th></th>\n",
       "    </tr>\n",
       "  </thead>\n",
       "  <tbody>\n",
       "    <tr>\n",
       "      <th>Excellent ⭐⭐⭐⭐</th>\n",
       "      <td>1127</td>\n",
       "      <td>43.68</td>\n",
       "    </tr>\n",
       "    <tr>\n",
       "      <th>Good ⭐⭐⭐</th>\n",
       "      <td>1046</td>\n",
       "      <td>40.54</td>\n",
       "    </tr>\n",
       "    <tr>\n",
       "      <th>Average ⭐⭐</th>\n",
       "      <td>250</td>\n",
       "      <td>9.69</td>\n",
       "    </tr>\n",
       "    <tr>\n",
       "      <th>Poor ⭐</th>\n",
       "      <td>131</td>\n",
       "      <td>5.08</td>\n",
       "    </tr>\n",
       "    <tr>\n",
       "      <th>Not Rated</th>\n",
       "      <td>26</td>\n",
       "      <td>1.01</td>\n",
       "    </tr>\n",
       "  </tbody>\n",
       "</table>\n",
       "</div>"
      ],
      "text/plain": [
       "                Count  Percentage\n",
       "Rating_Desc                      \n",
       "Excellent ⭐⭐⭐⭐   1127       43.68\n",
       "Good ⭐⭐⭐         1046       40.54\n",
       "Average ⭐⭐        250        9.69\n",
       "Poor ⭐            131        5.08\n",
       "Not Rated          26        1.01"
      ]
     },
     "execution_count": 20,
     "metadata": {},
     "output_type": "execute_result"
    }
   ],
   "source": [
    "summarize_categorical_distribution(df_clean,'Rating_Desc')"
   ]
  },
  {
   "cell_type": "code",
   "execution_count": 21,
   "id": "80479290-e835-4cf9-9629-ecf1bb1cf585",
   "metadata": {},
   "outputs": [],
   "source": [
    "# فلترة المنتجات ذات التقييم الأعلى\n",
    "high_rated = df_clean[df_clean['Rating_Desc'] == 'Excellent ⭐⭐⭐⭐']\n",
    "\n",
    "# نحسب عددها حسب الدولة\n",
    "top_countries = high_rated['Country'].value_counts()\n"
   ]
  },
  {
   "cell_type": "code",
   "execution_count": 22,
   "id": "eeec4459-3706-4c7c-9271-3afef4018f59",
   "metadata": {},
   "outputs": [
    {
     "data": {
      "text/plain": [
       "Country\n",
       "Japan          216\n",
       "South Korea    145\n",
       "USA            117\n",
       "Taiwan         102\n",
       "Malaysia        94\n",
       "Indonesia       82\n",
       "Hong Kong       78\n",
       "China           66\n",
       "Singapore       65\n",
       "Thailand        54\n",
       "Vietnam         16\n",
       "Philippines     14\n",
       "Mexico          14\n",
       "UK              11\n",
       "India            7\n",
       "Australia        6\n",
       "Germany          5\n",
       "Brazil           5\n",
       "Myanmar          5\n",
       "Bangladesh       4\n",
       "Fiji             3\n",
       "Canada           3\n",
       "Cambodia         3\n",
       "Sarawak          3\n",
       "Nepal            3\n",
       "Hungary          2\n",
       "Poland           2\n",
       "Pakistan         1\n",
       "Netherlands      1\n",
       "Name: count, dtype: int64"
      ]
     },
     "execution_count": 22,
     "metadata": {},
     "output_type": "execute_result"
    }
   ],
   "source": [
    "top_countries"
   ]
  },
  {
   "cell_type": "code",
   "execution_count": 23,
   "id": "a9889cf2-3148-48ad-851f-3fb6b8fd6d0f",
   "metadata": {},
   "outputs": [
    {
     "data": {
      "image/png": "[encoded data removed]",
      "text/plain": [
       "<Figure size 1000x800 with 1 Axes>"
      ]
     },
     "metadata": {},
     "output_type": "display_data"
    }
   ],
   "source": [
    "plt.figure(figsize=(10,8))\n",
    "sns.barplot(top_countries)\n",
    "plt.xticks(rotation=90);\n"
   ]
  },
  {
   "cell_type": "code",
   "execution_count": 24,
   "id": "26ec49db-bc5f-4197-9ff9-0371f6afcbdb",
   "metadata": {},
   "outputs": [],
   "source": [
    "high_raited_by_brand = df_clean[df_clean['Rating_Desc'] == 'Excellent ⭐⭐⭐⭐']\n",
    "\n",
    "top_brands = high_raited_by_brand['Brand'].value_counts()"
   ]
  },
  {
   "cell_type": "code",
   "execution_count": 25,
   "id": "b4952a8d-2d0c-4ac3-8431-33724a0b060e",
   "metadata": {},
   "outputs": [
    {
     "data": {
      "text/plain": [
       "Brand\n",
       "Nissin            203\n",
       "Nongshim           60\n",
       "Paldo              36\n",
       "Indomie            36\n",
       "Samyang Foods      33\n",
       "                 ... \n",
       "Pama                1\n",
       "Thai Chef           1\n",
       "Nakaya Shouten      1\n",
       "Sugakiya Foods      1\n",
       "Higashi             1\n",
       "Name: count, Length: 219, dtype: int64"
      ]
     },
     "execution_count": 25,
     "metadata": {},
     "output_type": "execute_result"
    }
   ],
   "source": [
    "top_brands"
   ]
  },
  {
   "cell_type": "code",
   "execution_count": 26,
   "id": "82916b0f-d4c7-4c09-99c9-a84bd8cef4fb",
   "metadata": {},
   "outputs": [],
   "source": [
    "\n",
    "style_counts = df_clean['Style'].value_counts()\n",
    "\n",
    "valid_styles = style_counts[style_counts > 50].index\n",
    "\n",
    "\n",
    "df_filtered = df_clean[df_clean['Style'].isin(valid_styles)]\n",
    "df_style = df_filtered.groupby('Style')['Stars'].mean().sort_values(ascending=False)\n"
   ]
  },
  {
   "cell_type": "code",
   "execution_count": 27,
   "id": "cdc88de6-051b-4511-ad14-3a084db9d591",
   "metadata": {},
   "outputs": [
    {
     "data": {
      "text/plain": [
       "Style\n",
       "Pack    3.700130\n",
       "Bowl    3.670686\n",
       "Tray    3.545139\n",
       "Cup     3.498500\n",
       "Name: Stars, dtype: float64"
      ]
     },
     "execution_count": 27,
     "metadata": {},
     "output_type": "execute_result"
    }
   ],
   "source": [
    "df_style"
   ]
  },
  {
   "cell_type": "code",
   "execution_count": 86,
   "id": "2b305c6c-996d-4410-b01d-4398120a916e",
   "metadata": {},
   "outputs": [
    {
     "data": {
      "text/plain": [
       "<Axes: xlabel='Style', ylabel='Stars'>"
      ]
     },
     "execution_count": 86,
     "metadata": {},
     "output_type": "execute_result"
    },
    {
     "data": {
      "image/png": "[encoded data removed]",
      "text/plain": [
       "<Figure size 640x480 with 1 Axes>"
      ]
     },
     "metadata": {},
     "output_type": "display_data"
    }
   ],
   "source": [
    "sns.barplot(df_style)"
   ]
  },
  {
   "cell_type": "markdown",
   "id": "09b5c29e-bc5a-4943-ae1a-8fd28160564d",
   "metadata": {},
   "source": [
    "## 📊 Final Report – Ramen Ratings Analysis\n",
    "1. Distribution of Rating Categories\n",
    "Ramen products were categorized into five rating levels:\n",
    "\n",
    "Excellent was the most common, representing 43.68% of the total.\n",
    "\n",
    "Good followed closely with 40.54%.\n",
    "\n",
    "Average, Poor, and Not Rated represented smaller portions of 9.69%, 5.08%, and 1.01% respectively.\n",
    "\n",
    "This suggests that the majority of ramen products are perceived as good or excellent by reviewers.\n",
    "\n",
    "2. Countries with the Most “Excellent” Ratings\n",
    "When filtering for only the top-rated (“Excellent”) products:\n",
    "\n",
    "Japan led the chart with 216 products.\n",
    "\n",
    "Followed by South Korea (145), USA (117), and Taiwan (102).\n",
    "\n",
    "Asian countries dominate the list, indicating regional strength in high-quality ramen production.\n",
    "\n",
    "3. Brands with the Most “Excellent” Products\n",
    "The brand Nissin significantly outperformed others with 203 highly rated products.\n",
    "\n",
    "Other leading brands include Nongshim, Paldo, Indomie, and Samyang Foods.\n",
    "\n",
    "This shows strong brand consistency in maintaining top-tier quality across different countries.\n",
    "\n",
    "4. Best Styles of Ramen by Average Rating\n",
    "Among the most common packaging styles (with >50 entries):\n",
    "\n",
    "Pack style had the highest average rating at 3.70 stars, followed by Bowl (3.67), Tray (3.54), and Cup (3.50).\n",
    "\n",
    "This may suggest a preference or higher quality perception in traditional packed ramen compared to cup noodles.\n",
    "\n",
    "## Summary\n",
    "The analysis indicates that:\n",
    "\n",
    "Japan and South Korea are leaders in producing highly-rated ramen.\n",
    "\n",
    "Brands like Nissin and Nongshim have established reputations for excellence.\n",
    "\n",
    "Packaging style can influence perceived quality, with Pack and Bowl styles receiving higher ratings."
   ]
  },
  {
   "cell_type": "markdown",
   "id": "ac0ac74f-2fab-47cc-9317-4636ade2b91f",
   "metadata": {},
   "source": [
    " ------------------"
   ]
  },
  {
   "cell_type": "markdown",
   "id": "62d1f52f-e6e0-4c3f-aa18-2cd24d09d923",
   "metadata": {},
   "source": [
    "# we will Start statistics :"
   ]
  },
  {
   "cell_type": "code",
   "execution_count": 29,
   "id": "4512a8c6-1b20-40d6-86cc-eb2547c3054a",
   "metadata": {},
   "outputs": [],
   "source": [
    "from scipy.stats import ttest_1samp, ttest_ind, ttest_rel\n",
    "import pandas as pd\n",
    "import numpy as np\n",
    "import matplotlib.pyplot as plt\n",
    "\n",
    "\n",
    "# تفسير حجم الأثر\n",
    "def interpret_cohens_d(d):\n",
    "    d = abs(d)\n",
    "    if d < 0.2:\n",
    "        return \"Very small effect\"\n",
    "    elif d < 0.5:\n",
    "        return \"Small effect\"\n",
    "    elif d < 0.8:\n",
    "        return \"Medium effect\"\n",
    "    else:\n",
    "        return \"Large effect\"\n",
    "\n",
    "# إنشاء DataFrame للنتيجة\n",
    "def make_result_df(t_stat, p_val, cohens_d, interpretation, alpha):\n",
    "    return pd.DataFrame([{\n",
    "        'T-Statistic': round(t_stat, 4),\n",
    "        'P-Value': round(p_val, 4),\n",
    "        \"Cohen's d\": round(cohens_d, 4),\n",
    "        'Effect Size': interpretation,\n",
    "        'Significant': p_val < alpha\n",
    "    }])\n",
    "    \n",
    "def t_test_independent_from_df(df, col, group_col, group1_val, group2_val, alpha=0.05):\n",
    "    n1 = df[df[group_col] == group1_val][col].isna().sum()\n",
    "    n2 = df[df[group_col] == group2_val][col].isna().sum()\n",
    "    if n1 > 0 or n2 > 0:\n",
    "        print(f\"⚠️ Missing values → {group1_val}: {n1}, {group2_val}: {n2} (not dropped)\")\n",
    "\n",
    "    g1 = df[df[group_col] == group1_val][col].dropna()\n",
    "    g2 = df[df[group_col] == group2_val][col].dropna()\n",
    "\n",
    "    t_stat, p_val = ttest_ind(g1, g2)\n",
    "    pooled_std = np.sqrt(((len(g1)-1)*np.var(g1, ddof=1) + (len(g2)-1)*np.var(g2, ddof=1)) / (len(g1)+len(g2)-2))\n",
    "    cohens_d = (np.mean(g1) - np.mean(g2)) / pooled_std\n",
    "    interpretation = interpret_cohens_d(cohens_d)\n",
    "\n",
    "    print(f\"\\n📊 Independent T-Test between {group1_val} and {group2_val} on '{col}':\")\n",
    "    print(f\"T = {t_stat:.4f}, P = {p_val:.4f}\")\n",
    "    print(f\"Cohen's d = {cohens_d:.4f} → {interpretation}\")\n",
    "    print(\"✅ Significant difference\" if p_val < alpha else \"❌ No significant difference\")\n",
    "\n",
    "    plt.figure(figsize=(6,4))\n",
    "    plt.boxplot([g1, g2], tick_labels=[str(group1_val), str(group2_val)])\n",
    "    plt.title(f\"Boxplot of '{col}' by '{group_col}'\")\n",
    "    plt.ylabel(col)\n",
    "    plt.grid(True)\n",
    "    plt.tight_layout()\n",
    "    plt.show()\n",
    "\n",
    "    return make_result_df(t_stat, p_val, cohens_d, interpretation, alpha)"
   ]
  },
  {
   "cell_type": "code",
   "execution_count": 30,
   "id": "961779a3-2cb9-4eda-a091-e07a9f334532",
   "metadata": {},
   "outputs": [
    {
     "name": "stdout",
     "output_type": "stream",
     "text": [
      "\n",
      "📊 Independent T-Test between Pack and Bowl on 'Stars':\n",
      "T = 0.5626, P = 0.5738\n",
      "Cohen's d = 0.0294 → Very small effect\n",
      "❌ No significant difference\n"
     ]
    },
    {
     "data": {
      "image/png": "[encoded data removed]",
      "text/plain": [
       "<Figure size 600x400 with 1 Axes>"
      ]
     },
     "metadata": {},
     "output_type": "display_data"
    },
    {
     "data": {
      "text/html": [
       "<div>\n",
       "<style scoped>\n",
       "    .dataframe tbody tr th:only-of-type {\n",
       "        vertical-align: middle;\n",
       "    }\n",
       "\n",
       "    .dataframe tbody tr th {\n",
       "        vertical-align: top;\n",
       "    }\n",
       "\n",
       "    .dataframe thead th {\n",
       "        text-align: right;\n",
       "    }\n",
       "</style>\n",
       "<table border=\"1\" class=\"dataframe\">\n",
       "  <thead>\n",
       "    <tr style=\"text-align: right;\">\n",
       "      <th></th>\n",
       "      <th>T-Statistic</th>\n",
       "      <th>P-Value</th>\n",
       "      <th>Cohen's d</th>\n",
       "      <th>Effect Size</th>\n",
       "      <th>Significant</th>\n",
       "    </tr>\n",
       "  </thead>\n",
       "  <tbody>\n",
       "    <tr>\n",
       "      <th>0</th>\n",
       "      <td>0.5626</td>\n",
       "      <td>0.5738</td>\n",
       "      <td>0.0294</td>\n",
       "      <td>Very small effect</td>\n",
       "      <td>False</td>\n",
       "    </tr>\n",
       "  </tbody>\n",
       "</table>\n",
       "</div>"
      ],
      "text/plain": [
       "   T-Statistic  P-Value  Cohen's d        Effect Size  Significant\n",
       "0       0.5626   0.5738     0.0294  Very small effect        False"
      ]
     },
     "execution_count": 30,
     "metadata": {},
     "output_type": "execute_result"
    }
   ],
   "source": [
    "t_test_independent_from_df(df_clean, 'Stars', 'Style', 'Pack', 'Bowl', alpha=0.05)"
   ]
  },
  {
   "cell_type": "markdown",
   "id": "69008134-bcfa-4fa1-81d1-d70753ffcde4",
   "metadata": {},
   "source": [
    "###  Independent T-Test: Pack vs Bowl (on 'Stars')\n",
    "\n",
    "We conducted an independent t-test to compare the average star ratings between **Pack** and **Bowl** ramen styles.\n",
    "\n",
    "| Metric         | Value    |\n",
    "|----------------|----------|\n",
    "| T-Statistic    | 0.5626   |\n",
    "| P-Value        | 0.5738   |\n",
    "| Cohen's d      | 0.0294   |\n",
    "| Effect Size    | Very small effect |\n",
    "| Significant?   | ❌ No (p > 0.05) |\n",
    "\n",
    "### **Interpretation:**  \n",
    "There is **no statistically significant difference** in average star ratings between Pack and Bowl.  \n",
    "The effect size (Cohen's d = 0.0294) indicates a **very small or negligible difference**.\n",
    "\n",
    "### **Conclusion:**  \n",
    "Packaging style (Pack vs Bowl) does **not have a meaningful impact** on perceived quality in this dataset.\n"
   ]
  },
  {
   "cell_type": "markdown",
   "id": "2ed34c4b-3ad8-49e0-b2eb-a5c2e0c963ad",
   "metadata": {},
   "source": [
    "--------------------------------"
   ]
  },
  {
   "cell_type": "markdown",
   "id": "fc520aa3-4b27-47b5-a343-e0ae98016050",
   "metadata": {},
   "source": [
    "--------------------------------------------------------"
   ]
  },
  {
   "cell_type": "code",
   "execution_count": 53,
   "id": "42efc9c0-9e0a-467e-987e-60bbc7b85a1a",
   "metadata": {},
   "outputs": [],
   "source": [
    "top_c = df_clean['Country'].value_counts().nlargest(5).index\n",
    "df_clean['Country'] = df_clean['Country'].apply(lambda x: x if x in top_c else 'other')"
   ]
  },
  {
   "cell_type": "code",
   "execution_count": 54,
   "id": "2cd25f4c-2e1c-4487-bc98-ddd6916940da",
   "metadata": {},
   "outputs": [
    {
     "data": {
      "text/plain": [
       "Country\n",
       "other          1372\n",
       "Japan           352\n",
       "USA             323\n",
       "South Korea     309\n",
       "Taiwan          224\n",
       "Name: count, dtype: int64"
      ]
     },
     "execution_count": 54,
     "metadata": {},
     "output_type": "execute_result"
    }
   ],
   "source": [
    "df_clean['Country'].value_counts()"
   ]
  },
  {
   "cell_type": "code",
   "execution_count": 55,
   "id": "a483b238-a42b-4af4-8c31-2e9c168d53a6",
   "metadata": {},
   "outputs": [],
   "source": [
    "top_b = df_clean['Brand'].value_counts().nlargest(5).index\n",
    "df_clean['Brand'] = df_clean['Brand'].apply(lambda x: x if x in top_b else 'other')"
   ]
  },
  {
   "cell_type": "code",
   "execution_count": 56,
   "id": "1bb2f9c3-79bd-4cf8-ae8e-99ff41ed2911",
   "metadata": {},
   "outputs": [
    {
     "data": {
      "text/plain": [
       "Brand\n",
       "other       1954\n",
       "Nissin       381\n",
       "Nongshim      98\n",
       "Maruchan      76\n",
       "Mama          71\n",
       "Name: count, dtype: int64"
      ]
     },
     "execution_count": 56,
     "metadata": {},
     "output_type": "execute_result"
    }
   ],
   "source": [
    "df_clean['Brand'].value_counts(ascending=False)"
   ]
  },
  {
   "cell_type": "markdown",
   "id": "420cd114-e85f-4a6a-a6a4-1f4c80a05973",
   "metadata": {},
   "source": [
    "------------------------------------------------------------------------------------------------"
   ]
  },
  {
   "cell_type": "code",
   "execution_count": 74,
   "id": "0bd69eab-76a5-4fa8-b3c0-80a0502a590f",
   "metadata": {},
   "outputs": [],
   "source": [
    "top_s = df_clean['Style'].value_counts().nlargest(3).index\n",
    "df_clean['Style'] = df_clean['Style'].apply(lambda x: x if x in top_s else 'other')"
   ]
  },
  {
   "cell_type": "markdown",
   "id": "3dbdc00f-f622-4f93-895e-aa04df0a1cc5",
   "metadata": {},
   "source": [
    "-----------------------------------------------------------------------------"
   ]
  },
  {
   "cell_type": "code",
   "execution_count": 75,
   "id": "aa305612-0784-4aa1-ad35-741235efcf71",
   "metadata": {},
   "outputs": [],
   "source": [
    "import statsmodels.api as sm\n",
    "from statsmodels.miscmodels.ordinal_model import OrderedModel\n"
   ]
  },
  {
   "cell_type": "code",
   "execution_count": 76,
   "id": "d7ceccf4-6ad6-4b04-969d-af9171451435",
   "metadata": {},
   "outputs": [],
   "source": [
    "# تحويل التقييمات إلى أقرب عدد صحيح\n",
    "df_clean['Stars_rounded'] = df_clean['Stars'].round().astype(int)\n",
    "\n",
    "# تحويلها إلى فئة مرتبة (رتبية)\n",
    "df_clean['Stars_rounded'] = pd.Categorical(df_clean['Stars_rounded'], ordered=True)\n",
    "\n",
    "\n",
    "# المتغيرات المستقلة\n",
    "X = df_clean[['Country', 'Style', 'Brand']]\n",
    "y = df_clean['Stars']"
   ]
  },
  {
   "cell_type": "code",
   "execution_count": 77,
   "id": "78542505-5c6c-4062-8132-7ce49f642927",
   "metadata": {},
   "outputs": [],
   "source": [
    "X_encoded = pd.get_dummies(X, drop_first=True)\n"
   ]
  },
  {
   "cell_type": "code",
   "execution_count": 78,
   "id": "49632947-4fa4-439e-bf95-e022e812433c",
   "metadata": {},
   "outputs": [
    {
     "name": "stdout",
     "output_type": "stream",
     "text": [
      "Optimization terminated successfully.\n",
      "         Current function value: 2.558171\n",
      "         Iterations: 136\n",
      "         Function evaluations: 137\n",
      "         Gradient evaluations: 137\n"
     ]
    }
   ],
   "source": [
    "model = OrderedModel(\n",
    "    y,\n",
    "    X_encoded,\n",
    "    distr='logit'  \n",
    ")\n",
    "\n",
    "# تدريب النموذج\n",
    "result = model.fit(method='bfgs')  \n"
   ]
  },
  {
   "cell_type": "code",
   "execution_count": 79,
   "id": "fe8f7094-375d-4566-8e5d-a583838b408f",
   "metadata": {},
   "outputs": [
    {
     "name": "stdout",
     "output_type": "stream",
     "text": [
      "                             OrderedModel Results                             \n",
      "==============================================================================\n",
      "Dep. Variable:                  Stars   Log-Likelihood:                -6600.1\n",
      "Model:                   OrderedModel   AIC:                         1.330e+04\n",
      "Method:            Maximum Likelihood   BIC:                         1.361e+04\n",
      "Date:                Tue, 10 Jun 2025                                         \n",
      "Time:                        22:03:45                                         \n",
      "No. Observations:                2580                                         \n",
      "Df Residuals:                    2528                                         \n",
      "Df Model:                          11                                         \n",
      "=======================================================================================\n",
      "                          coef    std err          z      P>|z|      [0.025      0.975]\n",
      "---------------------------------------------------------------------------------------\n",
      "Country_South Korea    -0.4299      0.143     -2.996      0.003      -0.711      -0.149\n",
      "Country_Taiwan         -0.4302      0.160     -2.684      0.007      -0.744      -0.116\n",
      "Country_USA            -1.1034      0.141     -7.826      0.000      -1.380      -0.827\n",
      "Country_other          -0.7066      0.111     -6.361      0.000      -0.924      -0.489\n",
      "Style_Cup              -0.4067      0.119     -3.412      0.001      -0.640      -0.173\n",
      "Style_Pack              0.1437      0.094      1.523      0.128      -0.041       0.329\n",
      "Style_other             0.1025      0.187      0.547      0.585      -0.265       0.470\n",
      "Brand_Maruchan          0.0010      0.298      0.003      0.997      -0.583       0.585\n",
      "Brand_Nissin            0.6076      0.233      2.610      0.009       0.151       1.064\n",
      "Brand_Nongshim          0.7660      0.287      2.667      0.008       0.203       1.329\n",
      "Brand_other            -0.0983      0.216     -0.456      0.648      -0.521       0.324\n",
      "0.0/0.1                -5.2102      0.313    -16.656      0.000      -5.823      -4.597\n",
      "0.1/0.25               -3.2661      1.001     -3.262      0.001      -5.228      -1.304\n",
      "0.25/0.5               -1.0574      0.302     -3.499      0.000      -1.650      -0.465\n",
      "0.5/0.75               -1.1372      0.268     -4.251      0.000      -1.662      -0.613\n",
      "0.75/0.9               -3.9365      1.001     -3.934      0.000      -5.898      -1.975\n",
      "0.9/1.0                -3.9552      1.001     -3.953      0.000      -5.916      -1.994\n",
      "1.0/1.1                -0.9031      0.196     -4.601      0.000      -1.288      -0.518\n",
      "1.1/1.25               -3.6636      0.706     -5.188      0.000      -5.048      -2.279\n",
      "1.25/1.5               -2.1245      0.316     -6.725      0.000      -2.744      -1.505\n",
      "1.5/1.75               -1.0335      0.164     -6.308      0.000      -1.355      -0.712\n",
      "1.75/1.8               -1.5930      0.192     -8.316      0.000      -1.968      -1.218\n",
      "1.8/2.0                -4.9804      1.000     -4.978      0.000      -6.941      -3.019\n",
      "2.0/2.1                -0.9326      0.120     -7.760      0.000      -1.168      -0.697\n",
      "2.1/2.125              -5.3129      1.001     -5.310      0.000      -7.274      -3.352\n",
      "2.125/2.25             -5.3169      1.001     -5.314      0.000      -7.278      -3.356\n",
      "2.25/2.3               -2.3128      0.217    -10.638      0.000      -2.739      -1.887\n",
      "2.3/2.5                -4.7027      0.706     -6.661      0.000      -6.086      -3.319\n",
      "2.5/2.75               -1.3037      0.121    -10.798      0.000      -1.540      -1.067\n",
      "2.75/2.8               -1.2674      0.107    -11.865      0.000      -1.477      -1.058\n",
      "2.8/2.85               -5.1111      0.706     -7.241      0.000      -6.495      -3.728\n",
      "2.85/2.9               -5.8121      1.001     -5.807      0.000      -7.774      -3.851\n",
      "2.9/3.0                -5.1175      0.706     -7.250      0.000      -6.501      -3.734\n",
      "3.0/3.1                -0.7868      0.073    -10.750      0.000      -0.930      -0.643\n",
      "3.1/3.125              -5.3878      0.706     -7.635      0.000      -6.771      -4.005\n",
      "3.125/3.2              -6.0887      1.001     -6.082      0.000      -8.051      -4.127\n",
      "3.2/3.25               -6.0900      1.001     -6.083      0.000      -8.052      -4.128\n",
      "3.25/3.3               -1.0394      0.074    -13.971      0.000      -1.185      -0.894\n",
      "3.3/3.4                -6.2554      1.001     -6.248      0.000      -8.218      -4.293\n",
      "3.4/3.5                -6.2560      1.001     -6.249      0.000      -8.218      -4.294\n",
      "3.5/3.6                -0.5279      0.052    -10.225      0.000      -0.629      -0.427\n",
      "3.6/3.65               -6.4080      1.002     -6.397      0.000      -8.371      -4.445\n",
      "3.65/3.7               -6.4083      1.002     -6.397      0.000      -8.372      -4.445\n",
      "3.7/3.75               -6.4085      1.002     -6.397      0.000      -8.372      -4.445\n",
      "3.75/3.8               -0.5512      0.050    -10.998      0.000      -0.649      -0.453\n",
      "3.8/4.0                -5.3045      0.576     -9.207      0.000      -6.434      -4.175\n",
      "4.0/4.125              -0.3588      0.047     -7.578      0.000      -0.452      -0.266\n",
      "4.125/4.25             -5.5247      0.705     -7.834      0.000      -6.907      -4.142\n",
      "4.25/4.3               -1.1917      0.081    -14.624      0.000      -1.351      -1.032\n",
      "4.3/4.5                -4.6927      0.500     -9.388      0.000      -5.672      -3.713\n",
      "4.5/4.75               -1.0812      0.084    -12.866      0.000      -1.246      -0.916\n",
      "4.75/5.0               -1.6734      0.124    -13.549      0.000      -1.915      -1.431\n",
      "=======================================================================================\n"
     ]
    }
   ],
   "source": [
    "print(result.summary())\n"
   ]
  },
  {
   "cell_type": "markdown",
   "id": "ceee5f33-ac70-43bf-9613-3886dc2ce614",
   "metadata": {},
   "source": [
    "# Ordinal Logistic Regression Summary – Star Rating Prediction\n",
    "Dependent Variable: Stars (Ordered: 1 to 5)\n",
    "Number of Observations: 2,580\n",
    "Model: Ordinal Logistic Regression\n",
    "Objective: To analyze how country of origin, product style, and brand influence the star rating of food products.\n",
    "\n",
    "### Model Fit Indicators\n",
    "Metric\tValue\tInterpretation\n",
    "Log-Likelihood\t-6600.1\tIndicates the fit of the model; closer to 0 (less negative) is better.\n",
    "AIC (Akaike Information Criterion)\t13,300\tUsed for model comparison; lower is better.\n",
    "BIC (Bayesian Information Criterion)\t13,610\tPenalizes model complexity; lower is better.\n",
    "Degrees of Freedom (Model)\t11\tNumber of predictors in the model.\n",
    "\n",
    "### Effect of Country of Origin\n",
    "Country\tCoefficient\tP-value\tInterpretation\n",
    "USA\t-1.1034\t< 0.001\tStrong negative impact on star ratings compared to the reference country.\n",
    "Taiwan\t-0.4302\t0.007\tModerate negative impact; statistically significant.\n",
    "South Korea\t-0.4299\t0.003\tModerate negative impact; statistically significant.\n",
    "Other\t-0.7066\t< 0.001\tStrong negative impact on ratings.\n",
    "\n",
    "### Effect of Product Style\n",
    "Style\tCoefficient\tP-value\tInterpretation\n",
    "Cup\t-0.4067\t0.001\tStatistically significant negative effect on ratings.\n",
    "Pack\t+0.1437\t0.128\tSlight positive effect; not statistically significant.\n",
    "Other\t+0.1025\t0.585\tNo significant effect.\n",
    "\n",
    "### Effect of Brand\n",
    "Brand\tCoefficient\tP-value\tInterpretation\n",
    "Nissin\t+0.6076\t0.009\tSignificant positive effect on ratings.\n",
    "Nongshim\t+0.7660\t0.008\tSignificant positive effect on ratings.\n",
    "Maruchan\t+0.0010\t0.997\tNo effect at all (completely insignificant).\n",
    "Other\t-0.0983\t0.648\tNo significant effect.\n",
    "\n",
    "### Thresholds\n",
    "The thresholds represent the model's learned cut-off points between adjacent star rating levels (e.g., from 3 to 4).\n",
    "All threshold values are statistically significant (p < 0.001), indicating stable separation between star categories.\n",
    "Note: These are internal to the model and not typically interpreted directly.\n",
    "\n",
    "## Key Takeaways\n",
    "Country of origin and brand are the most impactful factors in predicting star ratings.\n",
    "\n",
    "USA-made products receive significantly lower ratings compared to the reference.\n",
    "\n",
    "Brands like Nissin and Nongshim are associated with higher customer satisfaction.\n",
    "\n",
    "The product style \"Cup\" has a significant negative association with ratings.\n",
    "\n",
    "The model fit is solid, and the predictors show meaningful, interpretable effects."
   ]
  },
  {
   "cell_type": "code",
   "execution_count": null,
   "id": "4d881c00-2ef6-4790-a175-5beb810fb8ab",
   "metadata": {},
   "outputs": [],
   "source": []
  },
  {
   "cell_type": "code",
   "execution_count": null,
   "id": "0f190f78-f84c-4b34-bacc-abf33ef5373e",
   "metadata": {},
   "outputs": [],
   "source": []
  },
  {
   "cell_type": "code",
   "execution_count": null,
   "id": "375aaefb-c7d5-4596-8a43-60d6618cc219",
   "metadata": {},
   "outputs": [],
   "source": []
  }
 ],
 "metadata": {
  "kernelspec": {
   "display_name": "Python [conda env:base] *",
   "language": "python",
   "name": "conda-base-py"
  },
  "language_info": {
   "codemirror_mode": {
    "name": "ipython",
    "version": 3
   },
   "file_extension": ".py",
   "mimetype": "text/x-python",
   "name": "python",
   "nbconvert_exporter": "python",
   "pygments_lexer": "ipython3",
   "version": "3.12.7"
  }
 },
 "nbformat": 4,
 "nbformat_minor": 5
}

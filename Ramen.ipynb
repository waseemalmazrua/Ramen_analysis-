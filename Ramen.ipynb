{
 "cells": [
  {
   "cell_type": "markdown",
   "id": "ab496fd6-ffed-4c73-8c1f-c82318924602",
   "metadata": {},
   "source": [
    "# Ramen Ratings Analysis: Unveiling What Makes Instant Noodles Great 🍜\n",
    "Instant noodles are more than just a quick meal — they’re a global phenomenon with fierce brand loyalty, regional preferences, and a wide range of quality.\n",
    "In this project, I dove deep into a dataset of over a thousand ramen product reviews across countries, brands, and styles to answer key questions:\n",
    "\n",
    "### Which countries produce the highest-rated ramen?\n",
    "\n",
    "### Which brands consistently deliver excellence?\n",
    "\n",
    "### Does the packaging style impact product rating?\n",
    "\n",
    "### What patterns can we discover from consumer ratings?\n",
    "\n",
    "Using Python, I cleaned and explored the data, summarized categorical trends, and visualized key insights to better understand global preferences in ramen."
   ]
  },
  {
   "cell_type": "code",
   "execution_count": 1,
   "id": "fad2b058-4447-49a1-9d5d-12d093eb2395",
   "metadata": {},
   "outputs": [],
   "source": [
    "import numpy as np \n",
    "import pandas as pd \n",
    "import matplotlib.pyplot as plt\n",
    "import seaborn as sns "
   ]
  },
  {
   "cell_type": "code",
   "execution_count": 2,
   "id": "e8a2dffd-8ffa-46b3-a044-f782dc3087ec",
   "metadata": {},
   "outputs": [
    {
     "data": {
      "text/html": [
       "<div>\n",
       "<style scoped>\n",
       "    .dataframe tbody tr th:only-of-type {\n",
       "        vertical-align: middle;\n",
       "    }\n",
       "\n",
       "    .dataframe tbody tr th {\n",
       "        vertical-align: top;\n",
       "    }\n",
       "\n",
       "    .dataframe thead th {\n",
       "        text-align: right;\n",
       "    }\n",
       "</style>\n",
       "<table border=\"1\" class=\"dataframe\">\n",
       "  <thead>\n",
       "    <tr style=\"text-align: right;\">\n",
       "      <th></th>\n",
       "      <th>Review #</th>\n",
       "      <th>Brand</th>\n",
       "      <th>Variety</th>\n",
       "      <th>Style</th>\n",
       "      <th>Country</th>\n",
       "      <th>Stars</th>\n",
       "      <th>Top Ten</th>\n",
       "    </tr>\n",
       "  </thead>\n",
       "  <tbody>\n",
       "    <tr>\n",
       "      <th>0</th>\n",
       "      <td>2580</td>\n",
       "      <td>New Touch</td>\n",
       "      <td>T's Restaurant Tantanmen</td>\n",
       "      <td>Cup</td>\n",
       "      <td>Japan</td>\n",
       "      <td>3.75</td>\n",
       "      <td>NaN</td>\n",
       "    </tr>\n",
       "    <tr>\n",
       "      <th>1</th>\n",
       "      <td>2579</td>\n",
       "      <td>Just Way</td>\n",
       "      <td>Noodles Spicy Hot Sesame Spicy Hot Sesame Guan...</td>\n",
       "      <td>Pack</td>\n",
       "      <td>Taiwan</td>\n",
       "      <td>1</td>\n",
       "      <td>NaN</td>\n",
       "    </tr>\n",
       "    <tr>\n",
       "      <th>2</th>\n",
       "      <td>2578</td>\n",
       "      <td>Nissin</td>\n",
       "      <td>Cup Noodles Chicken Vegetable</td>\n",
       "      <td>Cup</td>\n",
       "      <td>USA</td>\n",
       "      <td>2.25</td>\n",
       "      <td>NaN</td>\n",
       "    </tr>\n",
       "    <tr>\n",
       "      <th>3</th>\n",
       "      <td>2577</td>\n",
       "      <td>Wei Lih</td>\n",
       "      <td>GGE Ramen Snack Tomato Flavor</td>\n",
       "      <td>Pack</td>\n",
       "      <td>Taiwan</td>\n",
       "      <td>2.75</td>\n",
       "      <td>NaN</td>\n",
       "    </tr>\n",
       "    <tr>\n",
       "      <th>4</th>\n",
       "      <td>2576</td>\n",
       "      <td>Ching's Secret</td>\n",
       "      <td>Singapore Curry</td>\n",
       "      <td>Pack</td>\n",
       "      <td>India</td>\n",
       "      <td>3.75</td>\n",
       "      <td>NaN</td>\n",
       "    </tr>\n",
       "    <tr>\n",
       "      <th>...</th>\n",
       "      <td>...</td>\n",
       "      <td>...</td>\n",
       "      <td>...</td>\n",
       "      <td>...</td>\n",
       "      <td>...</td>\n",
       "      <td>...</td>\n",
       "      <td>...</td>\n",
       "    </tr>\n",
       "    <tr>\n",
       "      <th>2575</th>\n",
       "      <td>5</td>\n",
       "      <td>Vifon</td>\n",
       "      <td>Hu Tiu Nam Vang [\"Phnom Penh\" style] Asian Sty...</td>\n",
       "      <td>Bowl</td>\n",
       "      <td>Vietnam</td>\n",
       "      <td>3.5</td>\n",
       "      <td>NaN</td>\n",
       "    </tr>\n",
       "    <tr>\n",
       "      <th>2576</th>\n",
       "      <td>4</td>\n",
       "      <td>Wai Wai</td>\n",
       "      <td>Oriental Style Instant Noodles</td>\n",
       "      <td>Pack</td>\n",
       "      <td>Thailand</td>\n",
       "      <td>1</td>\n",
       "      <td>NaN</td>\n",
       "    </tr>\n",
       "    <tr>\n",
       "      <th>2577</th>\n",
       "      <td>3</td>\n",
       "      <td>Wai Wai</td>\n",
       "      <td>Tom Yum Shrimp</td>\n",
       "      <td>Pack</td>\n",
       "      <td>Thailand</td>\n",
       "      <td>2</td>\n",
       "      <td>NaN</td>\n",
       "    </tr>\n",
       "    <tr>\n",
       "      <th>2578</th>\n",
       "      <td>2</td>\n",
       "      <td>Wai Wai</td>\n",
       "      <td>Tom Yum Chili Flavor</td>\n",
       "      <td>Pack</td>\n",
       "      <td>Thailand</td>\n",
       "      <td>2</td>\n",
       "      <td>NaN</td>\n",
       "    </tr>\n",
       "    <tr>\n",
       "      <th>2579</th>\n",
       "      <td>1</td>\n",
       "      <td>Westbrae</td>\n",
       "      <td>Miso Ramen</td>\n",
       "      <td>Pack</td>\n",
       "      <td>USA</td>\n",
       "      <td>0.5</td>\n",
       "      <td>NaN</td>\n",
       "    </tr>\n",
       "  </tbody>\n",
       "</table>\n",
       "<p>2580 rows × 7 columns</p>\n",
       "</div>"
      ],
      "text/plain": [
       "      Review #           Brand  \\\n",
       "0         2580       New Touch   \n",
       "1         2579        Just Way   \n",
       "2         2578          Nissin   \n",
       "3         2577         Wei Lih   \n",
       "4         2576  Ching's Secret   \n",
       "...        ...             ...   \n",
       "2575         5           Vifon   \n",
       "2576         4         Wai Wai   \n",
       "2577         3         Wai Wai   \n",
       "2578         2         Wai Wai   \n",
       "2579         1        Westbrae   \n",
       "\n",
       "                                                Variety Style   Country Stars  \\\n",
       "0                             T's Restaurant Tantanmen    Cup     Japan  3.75   \n",
       "1     Noodles Spicy Hot Sesame Spicy Hot Sesame Guan...  Pack    Taiwan     1   \n",
       "2                         Cup Noodles Chicken Vegetable   Cup       USA  2.25   \n",
       "3                         GGE Ramen Snack Tomato Flavor  Pack    Taiwan  2.75   \n",
       "4                                       Singapore Curry  Pack     India  3.75   \n",
       "...                                                 ...   ...       ...   ...   \n",
       "2575  Hu Tiu Nam Vang [\"Phnom Penh\" style] Asian Sty...  Bowl   Vietnam   3.5   \n",
       "2576                     Oriental Style Instant Noodles  Pack  Thailand     1   \n",
       "2577                                     Tom Yum Shrimp  Pack  Thailand     2   \n",
       "2578                               Tom Yum Chili Flavor  Pack  Thailand     2   \n",
       "2579                                         Miso Ramen  Pack       USA   0.5   \n",
       "\n",
       "     Top Ten  \n",
       "0        NaN  \n",
       "1        NaN  \n",
       "2        NaN  \n",
       "3        NaN  \n",
       "4        NaN  \n",
       "...      ...  \n",
       "2575     NaN  \n",
       "2576     NaN  \n",
       "2577     NaN  \n",
       "2578     NaN  \n",
       "2579     NaN  \n",
       "\n",
       "[2580 rows x 7 columns]"
      ]
     },
     "execution_count": 2,
     "metadata": {},
     "output_type": "execute_result"
    }
   ],
   "source": [
    "df = pd.read_csv(r\"C:\\Users\\wasee\\Downloads\\ramen-ratings.csv\")\n",
    "df"
   ]
  },
  {
   "cell_type": "code",
   "execution_count": 3,
   "id": "8686e009-1cf4-4555-975e-eb50d747ee08",
   "metadata": {},
   "outputs": [],
   "source": [
    "df_original = df.copy()"
   ]
  },
  {
   "cell_type": "code",
   "execution_count": 4,
   "id": "54bea695-421c-42ac-8bf3-87730f75686e",
   "metadata": {},
   "outputs": [],
   "source": [
    "df_clean = df_original.copy()"
   ]
  },
  {
   "cell_type": "code",
   "execution_count": 5,
   "id": "30e1e55a-d0e2-4243-8cf3-6aae6b0dbed2",
   "metadata": {},
   "outputs": [
    {
     "name": "stdout",
     "output_type": "stream",
     "text": [
      "<class 'pandas.core.frame.DataFrame'>\n",
      "RangeIndex: 2580 entries, 0 to 2579\n",
      "Data columns (total 7 columns):\n",
      " #   Column    Non-Null Count  Dtype \n",
      "---  ------    --------------  ----- \n",
      " 0   Review #  2580 non-null   int64 \n",
      " 1   Brand     2580 non-null   object\n",
      " 2   Variety   2580 non-null   object\n",
      " 3   Style     2578 non-null   object\n",
      " 4   Country   2580 non-null   object\n",
      " 5   Stars     2580 non-null   object\n",
      " 6   Top Ten   41 non-null     object\n",
      "dtypes: int64(1), object(6)\n",
      "memory usage: 141.2+ KB\n"
     ]
    }
   ],
   "source": [
    "df_clean.info()"
   ]
  },
  {
   "cell_type": "code",
   "execution_count": 6,
   "id": "038c0058-74d2-41ca-96c0-50c8c409ef9c",
   "metadata": {},
   "outputs": [
    {
     "data": {
      "text/plain": [
       "0"
      ]
     },
     "execution_count": 6,
     "metadata": {},
     "output_type": "execute_result"
    }
   ],
   "source": [
    "df_clean.duplicated().sum()"
   ]
  },
  {
   "cell_type": "code",
   "execution_count": 7,
   "id": "823f0781-50fe-493f-9b77-75023f1203c2",
   "metadata": {},
   "outputs": [
    {
     "data": {
      "text/plain": [
       "Style\n",
       "Pack    1531\n",
       "Bowl     481\n",
       "Cup      450\n",
       "Tray     108\n",
       "Box        6\n",
       "Can        1\n",
       "Bar        1\n",
       "Name: count, dtype: int64"
      ]
     },
     "execution_count": 7,
     "metadata": {},
     "output_type": "execute_result"
    }
   ],
   "source": [
    "df_clean['Style'].value_counts()"
   ]
  },
  {
   "cell_type": "code",
   "execution_count": 8,
   "id": "1925111b-1455-4aac-b4ed-45e413f8213f",
   "metadata": {},
   "outputs": [],
   "source": [
    "def fill_missing_by_mode(df, column):\n",
    "    mode = df[column].mode()[0]\n",
    "    df[column] = df[column].fillna(mode)\n"
   ]
  },
  {
   "cell_type": "code",
   "execution_count": 9,
   "id": "0141deea-8716-4542-8b51-d3b34785c408",
   "metadata": {},
   "outputs": [],
   "source": [
    "fill_missing_by_mode(df_clean,'Style')"
   ]
  },
  {
   "cell_type": "code",
   "execution_count": 10,
   "id": "9ef76fdc-2c78-43d8-b5f3-964212287071",
   "metadata": {},
   "outputs": [
    {
     "name": "stdout",
     "output_type": "stream",
     "text": [
      "<class 'pandas.core.frame.DataFrame'>\n",
      "RangeIndex: 2580 entries, 0 to 2579\n",
      "Data columns (total 7 columns):\n",
      " #   Column    Non-Null Count  Dtype \n",
      "---  ------    --------------  ----- \n",
      " 0   Review #  2580 non-null   int64 \n",
      " 1   Brand     2580 non-null   object\n",
      " 2   Variety   2580 non-null   object\n",
      " 3   Style     2580 non-null   object\n",
      " 4   Country   2580 non-null   object\n",
      " 5   Stars     2580 non-null   object\n",
      " 6   Top Ten   41 non-null     object\n",
      "dtypes: int64(1), object(6)\n",
      "memory usage: 141.2+ KB\n"
     ]
    }
   ],
   "source": [
    "df_clean.info()"
   ]
  },
  {
   "cell_type": "code",
   "execution_count": 11,
   "id": "3ba73b9c-fd9c-4cb7-a3b7-461f4479877c",
   "metadata": {},
   "outputs": [],
   "source": [
    "df_clean.drop(columns=['Top Ten'],inplace=True)"
   ]
  },
  {
   "cell_type": "code",
   "execution_count": 12,
   "id": "8b56ef06-67d2-4b93-a72c-155074e80573",
   "metadata": {},
   "outputs": [
    {
     "name": "stdout",
     "output_type": "stream",
     "text": [
      "<class 'pandas.core.frame.DataFrame'>\n",
      "RangeIndex: 2580 entries, 0 to 2579\n",
      "Data columns (total 6 columns):\n",
      " #   Column    Non-Null Count  Dtype \n",
      "---  ------    --------------  ----- \n",
      " 0   Review #  2580 non-null   int64 \n",
      " 1   Brand     2580 non-null   object\n",
      " 2   Variety   2580 non-null   object\n",
      " 3   Style     2580 non-null   object\n",
      " 4   Country   2580 non-null   object\n",
      " 5   Stars     2580 non-null   object\n",
      "dtypes: int64(1), object(5)\n",
      "memory usage: 121.1+ KB\n"
     ]
    }
   ],
   "source": [
    "df_clean.info()"
   ]
  },
  {
   "cell_type": "code",
   "execution_count": 13,
   "id": "5dcf28a9-1c08-4d36-940a-d16fc7468aaf",
   "metadata": {},
   "outputs": [],
   "source": [
    "df_clean['Stars'] = pd.to_numeric(df_clean['Stars'], errors='coerce')\n"
   ]
  },
  {
   "cell_type": "code",
   "execution_count": 14,
   "id": "6aebb01f-f986-4452-8d56-4b1347b02cb1",
   "metadata": {},
   "outputs": [],
   "source": [
    "df_clean['Stars'] =df_clean['Stars'].fillna(df_clean['Stars'].median())\n"
   ]
  },
  {
   "cell_type": "code",
   "execution_count": 15,
   "id": "af52da7a-89bd-47e8-9dba-12387c71608a",
   "metadata": {},
   "outputs": [
    {
     "name": "stdout",
     "output_type": "stream",
     "text": [
      "<class 'pandas.core.frame.DataFrame'>\n",
      "RangeIndex: 2580 entries, 0 to 2579\n",
      "Data columns (total 6 columns):\n",
      " #   Column    Non-Null Count  Dtype  \n",
      "---  ------    --------------  -----  \n",
      " 0   Review #  2580 non-null   int64  \n",
      " 1   Brand     2580 non-null   object \n",
      " 2   Variety   2580 non-null   object \n",
      " 3   Style     2580 non-null   object \n",
      " 4   Country   2580 non-null   object \n",
      " 5   Stars     2580 non-null   float64\n",
      "dtypes: float64(1), int64(1), object(4)\n",
      "memory usage: 121.1+ KB\n"
     ]
    }
   ],
   "source": [
    "df_clean.info()"
   ]
  },
  {
   "cell_type": "code",
   "execution_count": 16,
   "id": "c2ad35fa-061c-401d-8f25-497013fb35c9",
   "metadata": {},
   "outputs": [],
   "source": [
    "def categorize_rating(stars):\n",
    "    if stars >= 4.0:\n",
    "        return 'Excellent ⭐⭐⭐⭐'\n",
    "    elif stars >= 3.0:\n",
    "        return 'Good ⭐⭐⭐'\n",
    "    elif stars >= 2.0:\n",
    "        return 'Average ⭐⭐'\n",
    "    elif stars > 0:\n",
    "        return 'Poor ⭐'\n",
    "    else:\n",
    "        return 'Not Rated'\n",
    "\n",
    "\n"
   ]
  },
  {
   "cell_type": "code",
   "execution_count": 17,
   "id": "dc9c3e48-7209-426f-aea0-7f73721f2f76",
   "metadata": {},
   "outputs": [],
   "source": [
    "df_clean['Rating_Desc'] = df_clean['Stars'].apply(categorize_rating)"
   ]
  },
  {
   "cell_type": "code",
   "execution_count": 18,
   "id": "1292a7d0-eeae-4d01-b9f3-4be6fdc053d8",
   "metadata": {},
   "outputs": [
    {
     "data": {
      "text/html": [
       "<div>\n",
       "<style scoped>\n",
       "    .dataframe tbody tr th:only-of-type {\n",
       "        vertical-align: middle;\n",
       "    }\n",
       "\n",
       "    .dataframe tbody tr th {\n",
       "        vertical-align: top;\n",
       "    }\n",
       "\n",
       "    .dataframe thead th {\n",
       "        text-align: right;\n",
       "    }\n",
       "</style>\n",
       "<table border=\"1\" class=\"dataframe\">\n",
       "  <thead>\n",
       "    <tr style=\"text-align: right;\">\n",
       "      <th></th>\n",
       "      <th>Review #</th>\n",
       "      <th>Brand</th>\n",
       "      <th>Variety</th>\n",
       "      <th>Style</th>\n",
       "      <th>Country</th>\n",
       "      <th>Stars</th>\n",
       "      <th>Rating_Desc</th>\n",
       "    </tr>\n",
       "  </thead>\n",
       "  <tbody>\n",
       "    <tr>\n",
       "      <th>0</th>\n",
       "      <td>2580</td>\n",
       "      <td>New Touch</td>\n",
       "      <td>T's Restaurant Tantanmen</td>\n",
       "      <td>Cup</td>\n",
       "      <td>Japan</td>\n",
       "      <td>3.75</td>\n",
       "      <td>Good ⭐⭐⭐</td>\n",
       "    </tr>\n",
       "    <tr>\n",
       "      <th>1</th>\n",
       "      <td>2579</td>\n",
       "      <td>Just Way</td>\n",
       "      <td>Noodles Spicy Hot Sesame Spicy Hot Sesame Guan...</td>\n",
       "      <td>Pack</td>\n",
       "      <td>Taiwan</td>\n",
       "      <td>1.00</td>\n",
       "      <td>Poor ⭐</td>\n",
       "    </tr>\n",
       "    <tr>\n",
       "      <th>2</th>\n",
       "      <td>2578</td>\n",
       "      <td>Nissin</td>\n",
       "      <td>Cup Noodles Chicken Vegetable</td>\n",
       "      <td>Cup</td>\n",
       "      <td>USA</td>\n",
       "      <td>2.25</td>\n",
       "      <td>Average ⭐⭐</td>\n",
       "    </tr>\n",
       "    <tr>\n",
       "      <th>3</th>\n",
       "      <td>2577</td>\n",
       "      <td>Wei Lih</td>\n",
       "      <td>GGE Ramen Snack Tomato Flavor</td>\n",
       "      <td>Pack</td>\n",
       "      <td>Taiwan</td>\n",
       "      <td>2.75</td>\n",
       "      <td>Average ⭐⭐</td>\n",
       "    </tr>\n",
       "    <tr>\n",
       "      <th>4</th>\n",
       "      <td>2576</td>\n",
       "      <td>Ching's Secret</td>\n",
       "      <td>Singapore Curry</td>\n",
       "      <td>Pack</td>\n",
       "      <td>India</td>\n",
       "      <td>3.75</td>\n",
       "      <td>Good ⭐⭐⭐</td>\n",
       "    </tr>\n",
       "    <tr>\n",
       "      <th>...</th>\n",
       "      <td>...</td>\n",
       "      <td>...</td>\n",
       "      <td>...</td>\n",
       "      <td>...</td>\n",
       "      <td>...</td>\n",
       "      <td>...</td>\n",
       "      <td>...</td>\n",
       "    </tr>\n",
       "    <tr>\n",
       "      <th>2575</th>\n",
       "      <td>5</td>\n",
       "      <td>Vifon</td>\n",
       "      <td>Hu Tiu Nam Vang [\"Phnom Penh\" style] Asian Sty...</td>\n",
       "      <td>Bowl</td>\n",
       "      <td>Vietnam</td>\n",
       "      <td>3.50</td>\n",
       "      <td>Good ⭐⭐⭐</td>\n",
       "    </tr>\n",
       "    <tr>\n",
       "      <th>2576</th>\n",
       "      <td>4</td>\n",
       "      <td>Wai Wai</td>\n",
       "      <td>Oriental Style Instant Noodles</td>\n",
       "      <td>Pack</td>\n",
       "      <td>Thailand</td>\n",
       "      <td>1.00</td>\n",
       "      <td>Poor ⭐</td>\n",
       "    </tr>\n",
       "    <tr>\n",
       "      <th>2577</th>\n",
       "      <td>3</td>\n",
       "      <td>Wai Wai</td>\n",
       "      <td>Tom Yum Shrimp</td>\n",
       "      <td>Pack</td>\n",
       "      <td>Thailand</td>\n",
       "      <td>2.00</td>\n",
       "      <td>Average ⭐⭐</td>\n",
       "    </tr>\n",
       "    <tr>\n",
       "      <th>2578</th>\n",
       "      <td>2</td>\n",
       "      <td>Wai Wai</td>\n",
       "      <td>Tom Yum Chili Flavor</td>\n",
       "      <td>Pack</td>\n",
       "      <td>Thailand</td>\n",
       "      <td>2.00</td>\n",
       "      <td>Average ⭐⭐</td>\n",
       "    </tr>\n",
       "    <tr>\n",
       "      <th>2579</th>\n",
       "      <td>1</td>\n",
       "      <td>Westbrae</td>\n",
       "      <td>Miso Ramen</td>\n",
       "      <td>Pack</td>\n",
       "      <td>USA</td>\n",
       "      <td>0.50</td>\n",
       "      <td>Poor ⭐</td>\n",
       "    </tr>\n",
       "  </tbody>\n",
       "</table>\n",
       "<p>2580 rows × 7 columns</p>\n",
       "</div>"
      ],
      "text/plain": [
       "      Review #           Brand  \\\n",
       "0         2580       New Touch   \n",
       "1         2579        Just Way   \n",
       "2         2578          Nissin   \n",
       "3         2577         Wei Lih   \n",
       "4         2576  Ching's Secret   \n",
       "...        ...             ...   \n",
       "2575         5           Vifon   \n",
       "2576         4         Wai Wai   \n",
       "2577         3         Wai Wai   \n",
       "2578         2         Wai Wai   \n",
       "2579         1        Westbrae   \n",
       "\n",
       "                                                Variety Style   Country  \\\n",
       "0                             T's Restaurant Tantanmen    Cup     Japan   \n",
       "1     Noodles Spicy Hot Sesame Spicy Hot Sesame Guan...  Pack    Taiwan   \n",
       "2                         Cup Noodles Chicken Vegetable   Cup       USA   \n",
       "3                         GGE Ramen Snack Tomato Flavor  Pack    Taiwan   \n",
       "4                                       Singapore Curry  Pack     India   \n",
       "...                                                 ...   ...       ...   \n",
       "2575  Hu Tiu Nam Vang [\"Phnom Penh\" style] Asian Sty...  Bowl   Vietnam   \n",
       "2576                     Oriental Style Instant Noodles  Pack  Thailand   \n",
       "2577                                     Tom Yum Shrimp  Pack  Thailand   \n",
       "2578                               Tom Yum Chili Flavor  Pack  Thailand   \n",
       "2579                                         Miso Ramen  Pack       USA   \n",
       "\n",
       "      Stars Rating_Desc  \n",
       "0      3.75    Good ⭐⭐⭐  \n",
       "1      1.00      Poor ⭐  \n",
       "2      2.25  Average ⭐⭐  \n",
       "3      2.75  Average ⭐⭐  \n",
       "4      3.75    Good ⭐⭐⭐  \n",
       "...     ...         ...  \n",
       "2575   3.50    Good ⭐⭐⭐  \n",
       "2576   1.00      Poor ⭐  \n",
       "2577   2.00  Average ⭐⭐  \n",
       "2578   2.00  Average ⭐⭐  \n",
       "2579   0.50      Poor ⭐  \n",
       "\n",
       "[2580 rows x 7 columns]"
      ]
     },
     "execution_count": 18,
     "metadata": {},
     "output_type": "execute_result"
    }
   ],
   "source": [
    "df_clean"
   ]
  },
  {
   "cell_type": "code",
   "execution_count": 19,
   "id": "1013203c-2098-4b38-aec1-ff1f83162905",
   "metadata": {},
   "outputs": [],
   "source": [
    "\n",
    "# 10. تلخيص التوزيع للفئات\n",
    "def summarize_categorical_distribution(df, column):\n",
    "    counts = df[column].value_counts()\n",
    "    percentages = df[column].value_counts(normalize=True) * 100\n",
    "    summary = pd.DataFrame({'Count': counts, 'Percentage': percentages.round(2)})\n",
    "    return summary"
   ]
  },
  {
   "cell_type": "code",
   "execution_count": 20,
   "id": "65903922-004c-4621-b375-649bccb72bd3",
   "metadata": {},
   "outputs": [
    {
     "data": {
      "text/html": [
       "<div>\n",
       "<style scoped>\n",
       "    .dataframe tbody tr th:only-of-type {\n",
       "        vertical-align: middle;\n",
       "    }\n",
       "\n",
       "    .dataframe tbody tr th {\n",
       "        vertical-align: top;\n",
       "    }\n",
       "\n",
       "    .dataframe thead th {\n",
       "        text-align: right;\n",
       "    }\n",
       "</style>\n",
       "<table border=\"1\" class=\"dataframe\">\n",
       "  <thead>\n",
       "    <tr style=\"text-align: right;\">\n",
       "      <th></th>\n",
       "      <th>Count</th>\n",
       "      <th>Percentage</th>\n",
       "    </tr>\n",
       "    <tr>\n",
       "      <th>Rating_Desc</th>\n",
       "      <th></th>\n",
       "      <th></th>\n",
       "    </tr>\n",
       "  </thead>\n",
       "  <tbody>\n",
       "    <tr>\n",
       "      <th>Excellent ⭐⭐⭐⭐</th>\n",
       "      <td>1127</td>\n",
       "      <td>43.68</td>\n",
       "    </tr>\n",
       "    <tr>\n",
       "      <th>Good ⭐⭐⭐</th>\n",
       "      <td>1046</td>\n",
       "      <td>40.54</td>\n",
       "    </tr>\n",
       "    <tr>\n",
       "      <th>Average ⭐⭐</th>\n",
       "      <td>250</td>\n",
       "      <td>9.69</td>\n",
       "    </tr>\n",
       "    <tr>\n",
       "      <th>Poor ⭐</th>\n",
       "      <td>131</td>\n",
       "      <td>5.08</td>\n",
       "    </tr>\n",
       "    <tr>\n",
       "      <th>Not Rated</th>\n",
       "      <td>26</td>\n",
       "      <td>1.01</td>\n",
       "    </tr>\n",
       "  </tbody>\n",
       "</table>\n",
       "</div>"
      ],
      "text/plain": [
       "                Count  Percentage\n",
       "Rating_Desc                      \n",
       "Excellent ⭐⭐⭐⭐   1127       43.68\n",
       "Good ⭐⭐⭐         1046       40.54\n",
       "Average ⭐⭐        250        9.69\n",
       "Poor ⭐            131        5.08\n",
       "Not Rated          26        1.01"
      ]
     },
     "execution_count": 20,
     "metadata": {},
     "output_type": "execute_result"
    }
   ],
   "source": [
    "summarize_categorical_distribution(df_clean,'Rating_Desc')"
   ]
  },
  {
   "cell_type": "code",
   "execution_count": 21,
   "id": "80479290-e835-4cf9-9629-ecf1bb1cf585",
   "metadata": {},
   "outputs": [],
   "source": [
    "# فلترة المنتجات ذات التقييم الأعلى\n",
    "high_rated = df_clean[df_clean['Rating_Desc'] == 'Excellent ⭐⭐⭐⭐']\n",
    "\n",
    "# نحسب عددها حسب الدولة\n",
    "top_countries = high_rated['Country'].value_counts()\n"
   ]
  },
  {
   "cell_type": "code",
   "execution_count": 22,
   "id": "eeec4459-3706-4c7c-9271-3afef4018f59",
   "metadata": {},
   "outputs": [
    {
     "data": {
      "text/plain": [
       "Country\n",
       "Japan          216\n",
       "South Korea    145\n",
       "USA            117\n",
       "Taiwan         102\n",
       "Malaysia        94\n",
       "Indonesia       82\n",
       "Hong Kong       78\n",
       "China           66\n",
       "Singapore       65\n",
       "Thailand        54\n",
       "Vietnam         16\n",
       "Philippines     14\n",
       "Mexico          14\n",
       "UK              11\n",
       "India            7\n",
       "Australia        6\n",
       "Germany          5\n",
       "Brazil           5\n",
       "Myanmar          5\n",
       "Bangladesh       4\n",
       "Fiji             3\n",
       "Canada           3\n",
       "Cambodia         3\n",
       "Sarawak          3\n",
       "Nepal            3\n",
       "Hungary          2\n",
       "Poland           2\n",
       "Pakistan         1\n",
       "Netherlands      1\n",
       "Name: count, dtype: int64"
      ]
     },
     "execution_count": 22,
     "metadata": {},
     "output_type": "execute_result"
    }
   ],
   "source": [
    "top_countries"
   ]
  },
  {
   "cell_type": "code",
   "execution_count": 23,
   "id": "a9889cf2-3148-48ad-851f-3fb6b8fd6d0f",
   "metadata": {},
   "outputs": [
    {
     "data": {
      "image/png": "[encoded data removed]",
      "text/plain": [
       "<Figure size 1000x800 with 1 Axes>"
      ]
     },
     "metadata": {},
     "output_type": "display_data"
    }
   ],
   "source": [
    "plt.figure(figsize=(10,8))\n",
    "sns.barplot(top_countries)\n",
    "plt.xticks(rotation=90);\n"
   ]
  },
  {
   "cell_type": "code",
   "execution_count": 24,
   "id": "26ec49db-bc5f-4197-9ff9-0371f6afcbdb",
   "metadata": {},
   "outputs": [],
   "source": [
    "high_raited_by_brand = df_clean[df_clean['Rating_Desc'] == 'Excellent ⭐⭐⭐⭐']\n",
    "\n",
    "top_brands = high_raited_by_brand['Brand'].value_counts()"
   ]
  },
  {
   "cell_type": "code",
   "execution_count": 25,
   "id": "b4952a8d-2d0c-4ac3-8431-33724a0b060e",
   "metadata": {},
   "outputs": [
    {
     "data": {
      "text/plain": [
       "Brand\n",
       "Nissin            203\n",
       "Nongshim           60\n",
       "Paldo              36\n",
       "Indomie            36\n",
       "Samyang Foods      33\n",
       "                 ... \n",
       "Pama                1\n",
       "Thai Chef           1\n",
       "Nakaya Shouten      1\n",
       "Sugakiya Foods      1\n",
       "Higashi             1\n",
       "Name: count, Length: 219, dtype: int64"
      ]
     },
     "execution_count": 25,
     "metadata": {},
     "output_type": "execute_result"
    }
   ],
   "source": [
    "top_brands"
   ]
  },
  {
   "cell_type": "code",
   "execution_count": 65,
   "id": "82916b0f-d4c7-4c09-99c9-a84bd8cef4fb",
   "metadata": {},
   "outputs": [],
   "source": [
    "\n",
    "style_counts = df_clean['Style'].value_counts()\n",
    "\n",
    "valid_styles = style_counts[style_counts > 50].index\n",
    "\n",
    "\n",
    "df_filtered = df_clean[df_clean['Style'].isin(valid_styles)]\n",
    "df_style = df_filtered.groupby('Style')['Stars'].mean().sort_values(ascending=False)\n"
   ]
  },
  {
   "cell_type": "code",
   "execution_count": 67,
   "id": "cdc88de6-051b-4511-ad14-3a084db9d591",
   "metadata": {},
   "outputs": [
    {
     "data": {
      "text/plain": [
       "Style\n",
       "Pack    3.700130\n",
       "Bowl    3.670686\n",
       "Tray    3.545139\n",
       "Cup     3.498500\n",
       "Name: Stars, dtype: float64"
      ]
     },
     "execution_count": 67,
     "metadata": {},
     "output_type": "execute_result"
    }
   ],
   "source": [
    "df_style"
   ]
  },
  {
   "cell_type": "code",
   "execution_count": 66,
   "id": "2b305c6c-996d-4410-b01d-4398120a916e",
   "metadata": {},
   "outputs": [
    {
     "data": {
      "text/plain": [
       "<Axes: xlabel='Style', ylabel='Stars'>"
      ]
     },
     "execution_count": 66,
     "metadata": {},
     "output_type": "execute_result"
    },
    {
     "data": {
      "image/png": "[encoded data removed]",
      "text/plain": [
       "<Figure size 640x480 with 1 Axes>"
      ]
     },
     "metadata": {},
     "output_type": "display_data"
    }
   ],
   "source": [
    "sns.barplot(df_style)"
   ]
  },
  {
   "cell_type": "markdown",
   "id": "09b5c29e-bc5a-4943-ae1a-8fd28160564d",
   "metadata": {},
   "source": [
    "## 📊 Final Report – Ramen Ratings Analysis\n",
    "1. Distribution of Rating Categories\n",
    "Ramen products were categorized into five rating levels:\n",
    "\n",
    "Excellent was the most common, representing 43.68% of the total.\n",
    "\n",
    "Good followed closely with 40.54%.\n",
    "\n",
    "Average, Poor, and Not Rated represented smaller portions of 9.69%, 5.08%, and 1.01% respectively.\n",
    "\n",
    "This suggests that the majority of ramen products are perceived as good or excellent by reviewers.\n",
    "\n",
    "2. Countries with the Most “Excellent” Ratings\n",
    "When filtering for only the top-rated (“Excellent”) products:\n",
    "\n",
    "Japan led the chart with 216 products.\n",
    "\n",
    "Followed by South Korea (145), USA (117), and Taiwan (102).\n",
    "\n",
    "Asian countries dominate the list, indicating regional strength in high-quality ramen production.\n",
    "\n",
    "3. Brands with the Most “Excellent” Products\n",
    "The brand Nissin significantly outperformed others with 203 highly rated products.\n",
    "\n",
    "Other leading brands include Nongshim, Paldo, Indomie, and Samyang Foods.\n",
    "\n",
    "This shows strong brand consistency in maintaining top-tier quality across different countries.\n",
    "\n",
    "4. Best Styles of Ramen by Average Rating\n",
    "Among the most common packaging styles (with >50 entries):\n",
    "\n",
    "Pack style had the highest average rating at 3.70 stars, followed by Bowl (3.67), Tray (3.54), and Cup (3.50).\n",
    "\n",
    "This may suggest a preference or higher quality perception in traditional packed ramen compared to cup noodles.\n",
    "\n",
    "## Summary\n",
    "The analysis indicates that:\n",
    "\n",
    "Japan and South Korea are leaders in producing highly-rated ramen.\n",
    "\n",
    "Brands like Nissin and Nongshim have established reputations for excellence.\n",
    "\n",
    "Packaging style can influence perceived quality, with Pack and Bowl styles receiving higher ratings."
   ]
  },
  {
   "cell_type": "code",
   "execution_count": null,
   "id": "7966b37b-0613-49f2-ae94-914c5b9936c2",
   "metadata": {},
   "outputs": [],
   "source": []
  }
 ],
 "metadata": {
  "kernelspec": {
   "display_name": "Python [conda env:base] *",
   "language": "python",
   "name": "conda-base-py"
  },
  "language_info": {
   "codemirror_mode": {
    "name": "ipython",
    "version": 3
   },
   "file_extension": ".py",
   "mimetype": "text/x-python",
   "name": "python",
   "nbconvert_exporter": "python",
   "pygments_lexer": "ipython3",
   "version": "3.12.7"
  }
 },
 "nbformat": 4,
 "nbformat_minor": 5
}
